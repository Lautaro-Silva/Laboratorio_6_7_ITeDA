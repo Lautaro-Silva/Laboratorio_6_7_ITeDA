{
 "cells": [
  {
   "cell_type": "code",
   "execution_count": 2,
   "id": "cf1a2995-c68c-4837-bd35-3a4e8cc547ea",
   "metadata": {},
   "outputs": [],
   "source": [
    "import numpy as np\n",
    "import matplotlib.pyplot as plt\n",
    "import pandas as pd"
   ]
  },
  {
   "cell_type": "code",
   "execution_count": 7,
   "id": "49bd7a56-cf0a-40e3-bc2b-e99f36f2b074",
   "metadata": {},
   "outputs": [
    {
     "name": "stdout",
     "output_type": "stream",
     "text": [
      "Final x_data:\n",
      "0    0.000000e+00\n",
      "1    5.001667e-11\n",
      "2    1.000333e-10\n",
      "3    1.500500e-10\n",
      "4    2.000667e-10\n",
      "dtype: float64\n",
      "Final y_data:\n",
      "0    0.0\n",
      "1    0.0\n",
      "2    0.0\n",
      "3    0.0\n",
      "4    0.0\n",
      "dtype: float64\n"
     ]
    }
   ],
   "source": [
    "# Initialize lists to store x and y data\n",
    "x_data = []\n",
    "y_data = []\n",
    "\n",
    "# Define chunk size\n",
    "chunk_size = 1000000  # Adjust as needed based on memory capacity\n",
    "\n",
    "# Read the CSV file in chunks\n",
    "for chunk in pd.read_csv(\"combined_photon_data_100_times.txt\", sep=\"\\t\", chunksize=chunk_size, header=None):\n",
    "    # Ensure that the values are strings to split them\n",
    "    chunk[0] = chunk[0].astype(str)\n",
    "    \n",
    "    # Split the single column into two separate columns\n",
    "    split_data = chunk[0].str.split(',', expand=True)\n",
    "\n",
    "    # Convert to numeric, forcing non-convertible values to NaN\n",
    "    chunk['x'] = pd.to_numeric(split_data[0], errors='coerce')\n",
    "    chunk['y'] = pd.to_numeric(split_data[1], errors='coerce')\n",
    "\n",
    "    # Drop any rows with NaN values\n",
    "    chunk = chunk.dropna(subset=['x', 'y'])\n",
    "\n",
    "    # Append the x and y data to the lists\n",
    "    x_data.extend(chunk['x'].tolist())\n",
    "    y_data.extend(chunk['y'].tolist())\n",
    "\n",
    "# Convert the lists back to Series\n",
    "x_data = pd.Series(x_data)\n",
    "y_data = pd.Series(y_data)\n",
    "\n",
    "# Optionally check the first few values\n",
    "print(\"Final x_data:\")\n",
    "print(x_data.head())\n",
    "print(\"Final y_data:\")\n",
    "print(y_data.head())\n"
   ]
  },
  {
   "cell_type": "code",
   "execution_count": 10,
   "id": "327a0640-401a-42f7-af55-fbb115b44a67",
   "metadata": {},
   "outputs": [
    {
     "name": "stdout",
     "output_type": "stream",
     "text": [
      "96000000\n"
     ]
    }
   ],
   "source": [
    "print(x_data.size)"
   ]
  },
  {
   "cell_type": "code",
   "execution_count": 12,
   "id": "a8ef0a39-18c1-40e9-82af-2ec128a09111",
   "metadata": {},
   "outputs": [
    {
     "name": "stdout",
     "output_type": "stream",
     "text": [
      "0           0.000000e+00\n",
      "1           5.001667e-11\n",
      "2           1.000333e-10\n",
      "3           1.500500e-10\n",
      "4           2.000667e-10\n",
      "                ...     \n",
      "95999994    3.247900e-01\n",
      "95999995    3.247900e-01\n",
      "95999996    3.247900e-01\n",
      "95999997    3.247900e-01\n",
      "95999998    3.247900e-01\n",
      "Length: 95999999, dtype: float64\n"
     ]
    }
   ],
   "source": [
    "print(x_data[:-1])"
   ]
  },
  {
   "cell_type": "code",
   "execution_count": 20,
   "id": "0691400b-157f-4052-a5ce-919135094bfc",
   "metadata": {},
   "outputs": [
    {
     "name": "stdout",
     "output_type": "stream",
     "text": [
      "95900000    0.000073\n",
      "95900001    0.000073\n",
      "95900002    0.000072\n",
      "95900003    0.000072\n",
      "95900004    0.000072\n",
      "              ...   \n",
      "95999995    0.000010\n",
      "95999996    0.000010\n",
      "95999997    0.000009\n",
      "95999998    0.000009\n",
      "95999999    0.000009\n",
      "Length: 100000, dtype: float64\n"
     ]
    }
   ],
   "source": [
    "print(y_data[95900000:])"
   ]
  },
  {
   "cell_type": "code",
   "execution_count": 21,
   "id": "0edea632-28c0-4716-a792-7d28397a47fc",
   "metadata": {},
   "outputs": [
    {
     "data": {
      "text/plain": [
       "[<matplotlib.lines.Line2D at 0x7f6cd3d229c0>]"
      ]
     },
     "execution_count": 21,
     "metadata": {},
     "output_type": "execute_result"
    },
    {
     "data": {
      "image/png": "[encoded data removed]",
      "text/plain": [
       "<Figure size 640x480 with 1 Axes>"
      ]
     },
     "metadata": {},
     "output_type": "display_data"
    }
   ],
   "source": [
    "plt.plot(x_data, y_data)"
   ]
  },
  {
   "cell_type": "code",
   "execution_count": null,
   "id": "320eca1b-4899-4dbc-a9f0-376ab81e3ffe",
   "metadata": {},
   "outputs": [],
   "source": []
  }
 ],
 "metadata": {
  "kernelspec": {
   "display_name": "Python 3 (ipykernel)",
   "language": "python",
   "name": "python3"
  },
  "language_info": {
   "codemirror_mode": {
    "name": "ipython",
    "version": 3
   },
   "file_extension": ".py",
   "mimetype": "text/x-python",
   "name": "python",
   "nbconvert_exporter": "python",
   "pygments_lexer": "ipython3",
   "version": "3.12.3"
  }
 },
 "nbformat": 4,
 "nbformat_minor": 5
}
